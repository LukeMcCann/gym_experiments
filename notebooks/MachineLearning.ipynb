{
 "cells": [
  {
   "cell_type": "markdown",
   "metadata": {},
   "source": [
    "# Machine Learning"
   ]
  },
  {
   "cell_type": "markdown",
   "metadata": {},
   "source": [
    "## Supervised Learning"
   ]
  },
  {
   "cell_type": "markdown",
   "metadata": {},
   "source": [
    "There are two main types of **Supervised Learning**. Supervised learning is where a **Machine Learning Model** learns from the past input data and makes a future predicition as the output.\n",
    "\n",
    "The two main types of supervised learning used today are **Classification** and **Regression**.\n"
   ]
  },
  {
   "cell_type": "markdown",
   "metadata": {},
   "source": [
    "### Classification\n",
    "\n",
    "Classification is concerned with building models of which separate data into distinct classes. \n",
    "\n",
    "#### Algorithms \n",
    "\n",
    "* *Decision Tree*\n",
    "* *Support Vector Machine*\n",
    "\n",
    "\n",
    "### Regression\n",
    "\n",
    "Regression predicts using a continuous output value which is based on previous data. \n",
    "\n",
    "#### Algorithms\n",
    "\n",
    "* *Linear Regression*\n",
    "* *Polynomial Regression*\n",
    "\n",
    "Note that **Neural Networks** are a whole other tool which utilise both of these approaches. \n"
   ]
  },
  {
   "cell_type": "markdown",
   "metadata": {},
   "source": [
    "## Linear Regression Demo"
   ]
  },
  {
   "cell_type": "code",
   "execution_count": 19,
   "metadata": {},
   "outputs": [
    {
     "name": "stdout",
     "output_type": "stream",
     "text": [
      "[[1400]\n",
      " [1600]\n",
      " [1800]\n",
      " [1875]\n",
      " [1100]\n",
      " [1550]\n",
      " [2350]\n",
      " [2450]\n",
      " [1425]\n",
      " [1700]]\n"
     ]
    }
   ],
   "source": [
    "# importing Numpy, Matplotlob and sklearn libraries\n",
    "import matplotlib.pyplot as plt\n",
    "import numpy as np\n",
    "\n",
    "# importing datasets from scikit-learn\n",
    "from sklearn import datasets, linear_model\n",
    "\n",
    "#Load the dataset\n",
    "house_price = [245, 312, 279, 308, 199, 219, 405, 324, 319, 255]\n",
    "size = [1400, 1600, 1800, 1875, 1100, 1550, 2350, 2450, 1425, 1700]\n",
    "# Reshape the input to your regression\n",
    "size2 = np.array(size).reshape((-1, 1))\n",
    "\n",
    "print(size2)"
   ]
  },
  {
   "cell_type": "code",
   "execution_count": 9,
   "metadata": {},
   "outputs": [
    {
     "name": "stdout",
     "output_type": "stream",
     "text": [
      "Coefficients: \n",
      " [0.1088748]\n",
      "Intercept: \n",
      " 98.69096671949282\n"
     ]
    }
   ],
   "source": [
    "# by using fit module in lienar regression, we can fit data frequently \n",
    "# and quickly\n",
    "regr = linear_model.LinearRegression()\n",
    "regr.fit(size2, house_price)\n",
    "# Fit takes the data we have and fits it to a linear regression model\n",
    "# we then want to print the coefficient and intercept of that model\n",
    "print(\"Coefficients: \\n\" , regr.coef_)\n",
    "print(\"Intercept: \\n\" , regr.intercept_)"
   ]
  },
  {
   "cell_type": "code",
   "execution_count": 11,
   "metadata": {},
   "outputs": [
    {
     "name": "stdout",
     "output_type": "stream",
     "text": [
      "[229.340729]\n"
     ]
    }
   ],
   "source": [
    "size_new = 1200 \n",
    "price = (size_new * regr.coef_) + regr.intercept_\n",
    "print(price)"
   ]
  },
  {
   "cell_type": "code",
   "execution_count": 13,
   "metadata": {},
   "outputs": [],
   "source": [
    "def graph(formula, x_range):\n",
    "    x = np.array(x_range)\n",
    "    y = eval(formula)\n",
    "    plt.plot(x,y)"
   ]
  },
  {
   "cell_type": "code",
   "execution_count": 18,
   "metadata": {},
   "outputs": [
    {
     "data": {
      "image/png": "[encoded data removed]",
      "text/plain": [
       "<Figure size 432x288 with 1 Axes>"
      ]
     },
     "metadata": {
      "needs_background": "light"
     },
     "output_type": "display_data"
    }
   ],
   "source": [
    "graph('regr.coef_*x + regr.intercept_', range(1000, 3000))\n",
    "plt.scatter(size, house_price, color=\"black\")\n",
    "plt.ylabel('house_price')\n",
    "plt.xlabel('house_size')\n",
    "plt.show()"
   ]
  },
  {
   "cell_type": "code",
   "execution_count": null,
   "metadata": {},
   "outputs": [],
   "source": []
  }
 ],
 "metadata": {
  "kernelspec": {
   "display_name": "Python 3",
   "language": "python",
   "name": "python3"
  },
  "language_info": {
   "codemirror_mode": {
    "name": "ipython",
    "version": 3
   },
   "file_extension": ".py",
   "mimetype": "text/x-python",
   "name": "python",
   "nbconvert_exporter": "python",
   "pygments_lexer": "ipython3",
   "version": "3.7.0"
  }
 },
 "nbformat": 4,
 "nbformat_minor": 2
}
